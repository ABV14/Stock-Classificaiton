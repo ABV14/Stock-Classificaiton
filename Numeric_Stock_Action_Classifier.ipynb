{
  "nbformat": 4,
  "nbformat_minor": 0,
  "metadata": {
    "colab": {
      "provenance": []
    },
    "kernelspec": {
      "name": "python3",
      "display_name": "Python 3"
    },
    "language_info": {
      "name": "python"
    }
  },
  "cells": [
    {
      "cell_type": "markdown",
      "source": [
        "#Install the required Libraries"
      ],
      "metadata": {
        "id": "4b1EPSmlKBtW"
      }
    },
    {
      "cell_type": "code",
      "source": [
        "!pip install tensorflow\n",
        "!pip install scikeras\n",
        "!pip install mplfinance"
      ],
      "metadata": {
        "colab": {
          "base_uri": "https://localhost:8080/"
        },
        "id": "ji9FMV4tvFt1",
        "outputId": "5cf9c80f-93a2-4986-8bb6-9d27cfdf2803"
      },
      "execution_count": null,
      "outputs": [
        {
          "output_type": "stream",
          "name": "stdout",
          "text": [
            "Requirement already satisfied: tensorflow in /usr/local/lib/python3.10/dist-packages (2.15.0)\n",
            "Requirement already satisfied: absl-py>=1.0.0 in /usr/local/lib/python3.10/dist-packages (from tensorflow) (1.4.0)\n",
            "Requirement already satisfied: astunparse>=1.6.0 in /usr/local/lib/python3.10/dist-packages (from tensorflow) (1.6.3)\n",
            "Requirement already satisfied: flatbuffers>=23.5.26 in /usr/local/lib/python3.10/dist-packages (from tensorflow) (24.3.25)\n",
            "Requirement already satisfied: gast!=0.5.0,!=0.5.1,!=0.5.2,>=0.2.1 in /usr/local/lib/python3.10/dist-packages (from tensorflow) (0.5.4)\n",
            "Requirement already satisfied: google-pasta>=0.1.1 in /usr/local/lib/python3.10/dist-packages (from tensorflow) (0.2.0)\n",
            "Requirement already satisfied: h5py>=2.9.0 in /usr/local/lib/python3.10/dist-packages (from tensorflow) (3.9.0)\n",
            "Requirement already satisfied: libclang>=13.0.0 in /usr/local/lib/python3.10/dist-packages (from tensorflow) (18.1.1)\n",
            "Requirement already satisfied: ml-dtypes~=0.2.0 in /usr/local/lib/python3.10/dist-packages (from tensorflow) (0.2.0)\n",
            "Requirement already satisfied: numpy<2.0.0,>=1.23.5 in /usr/local/lib/python3.10/dist-packages (from tensorflow) (1.25.2)\n",
            "Requirement already satisfied: opt-einsum>=2.3.2 in /usr/local/lib/python3.10/dist-packages (from tensorflow) (3.3.0)\n",
            "Requirement already satisfied: packaging in /usr/local/lib/python3.10/dist-packages (from tensorflow) (24.0)\n",
            "Requirement already satisfied: protobuf!=4.21.0,!=4.21.1,!=4.21.2,!=4.21.3,!=4.21.4,!=4.21.5,<5.0.0dev,>=3.20.3 in /usr/local/lib/python3.10/dist-packages (from tensorflow) (3.20.3)\n",
            "Requirement already satisfied: setuptools in /usr/local/lib/python3.10/dist-packages (from tensorflow) (67.7.2)\n",
            "Requirement already satisfied: six>=1.12.0 in /usr/local/lib/python3.10/dist-packages (from tensorflow) (1.16.0)\n",
            "Requirement already satisfied: termcolor>=1.1.0 in /usr/local/lib/python3.10/dist-packages (from tensorflow) (2.4.0)\n",
            "Requirement already satisfied: typing-extensions>=3.6.6 in /usr/local/lib/python3.10/dist-packages (from tensorflow) (4.11.0)\n",
            "Requirement already satisfied: wrapt<1.15,>=1.11.0 in /usr/local/lib/python3.10/dist-packages (from tensorflow) (1.14.1)\n",
            "Requirement already satisfied: tensorflow-io-gcs-filesystem>=0.23.1 in /usr/local/lib/python3.10/dist-packages (from tensorflow) (0.36.0)\n",
            "Requirement already satisfied: grpcio<2.0,>=1.24.3 in /usr/local/lib/python3.10/dist-packages (from tensorflow) (1.62.2)\n",
            "Requirement already satisfied: tensorboard<2.16,>=2.15 in /usr/local/lib/python3.10/dist-packages (from tensorflow) (2.15.2)\n",
            "Requirement already satisfied: tensorflow-estimator<2.16,>=2.15.0 in /usr/local/lib/python3.10/dist-packages (from tensorflow) (2.15.0)\n",
            "Requirement already satisfied: keras<2.16,>=2.15.0 in /usr/local/lib/python3.10/dist-packages (from tensorflow) (2.15.0)\n",
            "Requirement already satisfied: wheel<1.0,>=0.23.0 in /usr/local/lib/python3.10/dist-packages (from astunparse>=1.6.0->tensorflow) (0.43.0)\n",
            "Requirement already satisfied: google-auth<3,>=1.6.3 in /usr/local/lib/python3.10/dist-packages (from tensorboard<2.16,>=2.15->tensorflow) (2.27.0)\n",
            "Requirement already satisfied: google-auth-oauthlib<2,>=0.5 in /usr/local/lib/python3.10/dist-packages (from tensorboard<2.16,>=2.15->tensorflow) (1.2.0)\n",
            "Requirement already satisfied: markdown>=2.6.8 in /usr/local/lib/python3.10/dist-packages (from tensorboard<2.16,>=2.15->tensorflow) (3.6)\n",
            "Requirement already satisfied: requests<3,>=2.21.0 in /usr/local/lib/python3.10/dist-packages (from tensorboard<2.16,>=2.15->tensorflow) (2.31.0)\n",
            "Requirement already satisfied: tensorboard-data-server<0.8.0,>=0.7.0 in /usr/local/lib/python3.10/dist-packages (from tensorboard<2.16,>=2.15->tensorflow) (0.7.2)\n",
            "Requirement already satisfied: werkzeug>=1.0.1 in /usr/local/lib/python3.10/dist-packages (from tensorboard<2.16,>=2.15->tensorflow) (3.0.2)\n",
            "Requirement already satisfied: cachetools<6.0,>=2.0.0 in /usr/local/lib/python3.10/dist-packages (from google-auth<3,>=1.6.3->tensorboard<2.16,>=2.15->tensorflow) (5.3.3)\n",
            "Requirement already satisfied: pyasn1-modules>=0.2.1 in /usr/local/lib/python3.10/dist-packages (from google-auth<3,>=1.6.3->tensorboard<2.16,>=2.15->tensorflow) (0.4.0)\n",
            "Requirement already satisfied: rsa<5,>=3.1.4 in /usr/local/lib/python3.10/dist-packages (from google-auth<3,>=1.6.3->tensorboard<2.16,>=2.15->tensorflow) (4.9)\n",
            "Requirement already satisfied: requests-oauthlib>=0.7.0 in /usr/local/lib/python3.10/dist-packages (from google-auth-oauthlib<2,>=0.5->tensorboard<2.16,>=2.15->tensorflow) (1.3.1)\n",
            "Requirement already satisfied: charset-normalizer<4,>=2 in /usr/local/lib/python3.10/dist-packages (from requests<3,>=2.21.0->tensorboard<2.16,>=2.15->tensorflow) (3.3.2)\n",
            "Requirement already satisfied: idna<4,>=2.5 in /usr/local/lib/python3.10/dist-packages (from requests<3,>=2.21.0->tensorboard<2.16,>=2.15->tensorflow) (3.7)\n",
            "Requirement already satisfied: urllib3<3,>=1.21.1 in /usr/local/lib/python3.10/dist-packages (from requests<3,>=2.21.0->tensorboard<2.16,>=2.15->tensorflow) (2.0.7)\n",
            "Requirement already satisfied: certifi>=2017.4.17 in /usr/local/lib/python3.10/dist-packages (from requests<3,>=2.21.0->tensorboard<2.16,>=2.15->tensorflow) (2024.2.2)\n",
            "Requirement already satisfied: MarkupSafe>=2.1.1 in /usr/local/lib/python3.10/dist-packages (from werkzeug>=1.0.1->tensorboard<2.16,>=2.15->tensorflow) (2.1.5)\n",
            "Requirement already satisfied: pyasn1<0.7.0,>=0.4.6 in /usr/local/lib/python3.10/dist-packages (from pyasn1-modules>=0.2.1->google-auth<3,>=1.6.3->tensorboard<2.16,>=2.15->tensorflow) (0.6.0)\n",
            "Requirement already satisfied: oauthlib>=3.0.0 in /usr/local/lib/python3.10/dist-packages (from requests-oauthlib>=0.7.0->google-auth-oauthlib<2,>=0.5->tensorboard<2.16,>=2.15->tensorflow) (3.2.2)\n",
            "Collecting scikeras\n",
            "  Downloading scikeras-0.13.0-py3-none-any.whl (26 kB)\n",
            "Collecting keras>=3.2.0 (from scikeras)\n",
            "  Downloading keras-3.3.2-py3-none-any.whl (1.1 MB)\n",
            "\u001b[2K     \u001b[90m━━━━━━━━━━━━━━━━━━━━━━━━━━━━━━━━━━━━━━━━\u001b[0m \u001b[32m1.1/1.1 MB\u001b[0m \u001b[31m6.4 MB/s\u001b[0m eta \u001b[36m0:00:00\u001b[0m\n",
            "\u001b[?25hCollecting scikit-learn>=1.4.2 (from scikeras)\n",
            "  Downloading scikit_learn-1.4.2-cp310-cp310-manylinux_2_17_x86_64.manylinux2014_x86_64.whl (12.1 MB)\n",
            "\u001b[2K     \u001b[90m━━━━━━━━━━━━━━━━━━━━━━━━━━━━━━━━━━━━━━━━\u001b[0m \u001b[32m12.1/12.1 MB\u001b[0m \u001b[31m8.9 MB/s\u001b[0m eta \u001b[36m0:00:00\u001b[0m\n",
            "\u001b[?25hRequirement already satisfied: absl-py in /usr/local/lib/python3.10/dist-packages (from keras>=3.2.0->scikeras) (1.4.0)\n",
            "Requirement already satisfied: numpy in /usr/local/lib/python3.10/dist-packages (from keras>=3.2.0->scikeras) (1.25.2)\n",
            "Requirement already satisfied: rich in /usr/local/lib/python3.10/dist-packages (from keras>=3.2.0->scikeras) (13.7.1)\n",
            "Collecting namex (from keras>=3.2.0->scikeras)\n",
            "  Downloading namex-0.0.8-py3-none-any.whl (5.8 kB)\n",
            "Requirement already satisfied: h5py in /usr/local/lib/python3.10/dist-packages (from keras>=3.2.0->scikeras) (3.9.0)\n",
            "Collecting optree (from keras>=3.2.0->scikeras)\n",
            "  Downloading optree-0.11.0-cp310-cp310-manylinux_2_17_x86_64.manylinux2014_x86_64.whl (311 kB)\n",
            "\u001b[2K     \u001b[90m━━━━━━━━━━━━━━━━━━━━━━━━━━━━━━━━━━━━━━━━\u001b[0m \u001b[32m311.2/311.2 kB\u001b[0m \u001b[31m5.4 MB/s\u001b[0m eta \u001b[36m0:00:00\u001b[0m\n",
            "\u001b[?25hRequirement already satisfied: ml-dtypes in /usr/local/lib/python3.10/dist-packages (from keras>=3.2.0->scikeras) (0.2.0)\n",
            "Requirement already satisfied: scipy>=1.6.0 in /usr/local/lib/python3.10/dist-packages (from scikit-learn>=1.4.2->scikeras) (1.11.4)\n",
            "Requirement already satisfied: joblib>=1.2.0 in /usr/local/lib/python3.10/dist-packages (from scikit-learn>=1.4.2->scikeras) (1.4.0)\n",
            "Requirement already satisfied: threadpoolctl>=2.0.0 in /usr/local/lib/python3.10/dist-packages (from scikit-learn>=1.4.2->scikeras) (3.4.0)\n",
            "Requirement already satisfied: typing-extensions>=4.0.0 in /usr/local/lib/python3.10/dist-packages (from optree->keras>=3.2.0->scikeras) (4.11.0)\n",
            "Requirement already satisfied: markdown-it-py>=2.2.0 in /usr/local/lib/python3.10/dist-packages (from rich->keras>=3.2.0->scikeras) (3.0.0)\n",
            "Requirement already satisfied: pygments<3.0.0,>=2.13.0 in /usr/local/lib/python3.10/dist-packages (from rich->keras>=3.2.0->scikeras) (2.16.1)\n",
            "Requirement already satisfied: mdurl~=0.1 in /usr/local/lib/python3.10/dist-packages (from markdown-it-py>=2.2.0->rich->keras>=3.2.0->scikeras) (0.1.2)\n",
            "Installing collected packages: namex, optree, scikit-learn, keras, scikeras\n",
            "  Attempting uninstall: scikit-learn\n",
            "    Found existing installation: scikit-learn 1.2.2\n",
            "    Uninstalling scikit-learn-1.2.2:\n",
            "      Successfully uninstalled scikit-learn-1.2.2\n",
            "  Attempting uninstall: keras\n",
            "    Found existing installation: keras 2.15.0\n",
            "    Uninstalling keras-2.15.0:\n",
            "      Successfully uninstalled keras-2.15.0\n",
            "\u001b[31mERROR: pip's dependency resolver does not currently take into account all the packages that are installed. This behaviour is the source of the following dependency conflicts.\n",
            "tensorflow 2.15.0 requires keras<2.16,>=2.15.0, but you have keras 3.3.2 which is incompatible.\u001b[0m\u001b[31m\n",
            "\u001b[0mSuccessfully installed keras-3.3.2 namex-0.0.8 optree-0.11.0 scikeras-0.13.0 scikit-learn-1.4.2\n",
            "Collecting mplfinance\n",
            "  Downloading mplfinance-0.12.10b0-py3-none-any.whl (75 kB)\n",
            "\u001b[2K     \u001b[90m━━━━━━━━━━━━━━━━━━━━━━━━━━━━━━━━━━━━━━━━\u001b[0m \u001b[32m75.0/75.0 kB\u001b[0m \u001b[31m1.3 MB/s\u001b[0m eta \u001b[36m0:00:00\u001b[0m\n",
            "\u001b[?25hRequirement already satisfied: matplotlib in /usr/local/lib/python3.10/dist-packages (from mplfinance) (3.7.1)\n",
            "Requirement already satisfied: pandas in /usr/local/lib/python3.10/dist-packages (from mplfinance) (2.0.3)\n",
            "Requirement already satisfied: contourpy>=1.0.1 in /usr/local/lib/python3.10/dist-packages (from matplotlib->mplfinance) (1.2.1)\n",
            "Requirement already satisfied: cycler>=0.10 in /usr/local/lib/python3.10/dist-packages (from matplotlib->mplfinance) (0.12.1)\n",
            "Requirement already satisfied: fonttools>=4.22.0 in /usr/local/lib/python3.10/dist-packages (from matplotlib->mplfinance) (4.51.0)\n",
            "Requirement already satisfied: kiwisolver>=1.0.1 in /usr/local/lib/python3.10/dist-packages (from matplotlib->mplfinance) (1.4.5)\n",
            "Requirement already satisfied: numpy>=1.20 in /usr/local/lib/python3.10/dist-packages (from matplotlib->mplfinance) (1.25.2)\n",
            "Requirement already satisfied: packaging>=20.0 in /usr/local/lib/python3.10/dist-packages (from matplotlib->mplfinance) (24.0)\n",
            "Requirement already satisfied: pillow>=6.2.0 in /usr/local/lib/python3.10/dist-packages (from matplotlib->mplfinance) (9.4.0)\n",
            "Requirement already satisfied: pyparsing>=2.3.1 in /usr/local/lib/python3.10/dist-packages (from matplotlib->mplfinance) (3.1.2)\n",
            "Requirement already satisfied: python-dateutil>=2.7 in /usr/local/lib/python3.10/dist-packages (from matplotlib->mplfinance) (2.8.2)\n",
            "Requirement already satisfied: pytz>=2020.1 in /usr/local/lib/python3.10/dist-packages (from pandas->mplfinance) (2023.4)\n",
            "Requirement already satisfied: tzdata>=2022.1 in /usr/local/lib/python3.10/dist-packages (from pandas->mplfinance) (2024.1)\n",
            "Requirement already satisfied: six>=1.5 in /usr/local/lib/python3.10/dist-packages (from python-dateutil>=2.7->matplotlib->mplfinance) (1.16.0)\n",
            "Installing collected packages: mplfinance\n",
            "Successfully installed mplfinance-0.12.10b0\n"
          ]
        }
      ]
    },
    {
      "cell_type": "markdown",
      "source": [
        "# Importing the required Libraries"
      ],
      "metadata": {
        "id": "lILeN-SJKG2N"
      }
    },
    {
      "cell_type": "code",
      "source": [
        "import pandas as pd\n",
        "import matplotlib.pyplot as plt\n",
        "import mplfinance as mpf\n",
        "from sklearn.model_selection import train_test_split\n",
        "from sklearn.preprocessing import LabelEncoder\n",
        "from sklearn.preprocessing import StandardScaler\n",
        "from tensorflow.keras.models import Sequential\n",
        "from tensorflow.keras.layers import Dense, Input\n",
        "import numpy as np\n",
        "from sklearn.metrics import confusion_matrix, ConfusionMatrixDisplay\n",
        "\n"
      ],
      "metadata": {
        "id": "T4mHt0qK4wAn"
      },
      "execution_count": 16,
      "outputs": []
    },
    {
      "cell_type": "markdown",
      "source": [
        "#Here we read the csv using user input, We have a dataset of S&P 400 stocks, which has the code and name of the stock, User should enter the stock code after the prompt.\n",
        "\n",
        "#We have saved numerical data in \"StockCode Stockname.csv\""
      ],
      "metadata": {
        "id": "mQTFlJrAKaaD"
      }
    },
    {
      "cell_type": "code",
      "source": [
        "def read_stock_csv():\n",
        "  stock_mapping = pd.read_csv('/content/sample_data/stock_codes.csv')\n",
        "  user_input = input(\"Enter the stock code (e.g., TSLA for Tesla): \")\n",
        "  user_input = user_input.upper()\n",
        "  print(type(user_input))\n",
        "  stock_data = []\n",
        "  # Check if the user input is valid\n",
        "  if user_input.strip() in stock_mapping['Code'].str.strip().values:\n",
        "      stock_name = stock_mapping.loc[stock_mapping['Code'].str.strip() == user_input.strip(), 'Name'].values[0]\n",
        "      csv_file_path = f\"/content/sample_data/{user_input} {stock_name}.csv\"\n",
        "      stock_data = pd.read_csv(csv_file_path)\n",
        "      return stock_data, stock_name, user_input\n",
        "      print(\"Data loaded successfully!\")\n",
        "  else:\n",
        "      print(\"Invalid stock code!\")\n",
        "\n",
        "\n"
      ],
      "metadata": {
        "id": "LrHeVoR_qRky"
      },
      "execution_count": null,
      "outputs": []
    },
    {
      "cell_type": "markdown",
      "source": [
        "# Here we create the Action column, which has values buy and sell based on the numeric values of the dataset"
      ],
      "metadata": {
        "id": "cg4b16q8LHMo"
      }
    },
    {
      "cell_type": "markdown",
      "source": [
        "Here 0 is sell and 1 is buy"
      ],
      "metadata": {
        "id": "iLlssT7eOF0D"
      }
    },
    {
      "cell_type": "code",
      "source": [
        "def action_of_stock(data,id):\n",
        "  if id == 0:\n",
        "      return None\n",
        "\n",
        "  prev_row = data.iloc[id - 1]\n",
        "  curr_row = data.iloc[id]\n",
        "\n",
        "  prev_close = prev_row['Close']\n",
        "  prev_volume = prev_row['Volume']\n",
        "  close = curr_row['Close']\n",
        "  volume = curr_row['Volume']\n",
        "  open = curr_row['Open']\n",
        "  if prev_close > open and prev_close > close and prev_volume > volume:\n",
        "      return \"Buy\"  # Buy\n",
        "  elif open > prev_close and prev_close < close and volume < prev_volume:\n",
        "      return \"Sell\"  # Sell\n",
        "  elif close>prev_close:\n",
        "    return \"Buy\"\n",
        "  else:\n",
        "    return \"Sell\"\n"
      ],
      "metadata": {
        "id": "Ajl9J9SiCZiQ"
      },
      "execution_count": null,
      "outputs": []
    },
    {
      "cell_type": "markdown",
      "source": [
        "# Here we call the function to read the data and also the function to create the \"Action\" column"
      ],
      "metadata": {
        "id": "g_gSRE4PLRgB"
      }
    },
    {
      "cell_type": "code",
      "execution_count": null,
      "metadata": {
        "id": "wZGfslN-AKuZ",
        "colab": {
          "base_uri": "https://localhost:8080/"
        },
        "outputId": "0a7a255a-ecd0-4f25-be0f-6093282c2162"
      },
      "outputs": [
        {
          "output_type": "stream",
          "name": "stdout",
          "text": [
            "Enter the stock code (e.g., TSLA for Tesla): aapl\n",
            "<class 'str'>\n",
            "         Date   Open   High    Low  Close       Volume Action\n",
            "1    5/2/2014  21.16  21.22  21.06  21.16  191514252.0    Buy\n",
            "2    5/1/2014  21.14  21.24  20.94  21.12  244209661.0   Sell\n",
            "3   4/30/2014  21.17  21.41  21.06  21.07  456883540.0   Sell\n",
            "4   4/29/2014  21.21  21.29  21.05  21.15  337378733.0   Sell\n",
            "5   4/28/2014  20.46  21.28  20.45  21.22  669486747.0    Buy\n",
            "6   4/25/2014  20.16  20.43  20.14  20.43  390275155.0    Buy\n",
            "7   4/24/2014  20.29  20.36  20.03  20.28  759912407.0   Sell\n",
            "8   4/23/2014  18.90  18.97  18.73  18.74  394941075.0    Buy\n",
            "9   4/22/2014  18.87  18.99  18.80  18.99  202657803.0   Sell\n",
            "10  4/21/2014  18.76  19.01  18.71  18.97  182675716.0    Buy\n",
            "11  4/17/2014  18.57  18.85  18.54  18.75  284426788.0   Sell\n",
            "12  4/16/2014  18.50  18.61  18.36  18.54  214931967.0    Buy\n",
            "13  4/15/2014  18.58  18.63  18.26  18.50  266490297.0   Sell\n",
            "14  4/14/2014  18.64  18.65  18.47  18.63  205780699.0   Sell\n",
            "15  4/11/2014  18.54  18.67  18.47  18.56  271900036.0   Sell\n",
            "16  4/10/2014  18.95  19.01  18.68  18.70  239651262.0   Sell\n",
            "17   4/9/2014  18.67  18.95  18.64  18.94  206170879.0    Buy\n",
            "18   4/8/2014  18.76  18.79  18.53  18.69  243887522.0   Sell\n",
            "19   4/7/2014  18.86  18.96  18.64  18.70  289850108.0    Buy\n",
            "20   4/4/2014  19.28  19.29  18.95  18.99  275249928.0   Sell\n",
            "21   4/3/2014  19.34  19.38  19.20  19.24  162592437.0   Sell\n",
            "22   4/2/2014  19.37  19.41  19.30  19.38  180419476.0    Buy\n",
            "23   4/1/2014  19.21  19.35  19.17  19.34  200758731.0   Sell\n",
            "24  3/31/2014  19.26  19.31  19.14  19.17  168668745.0    Buy\n",
            "25  3/28/2014  19.23  19.25  19.08  19.17  200564243.0   Sell\n",
            "26  3/27/2014  19.29  19.34  19.11  19.20  222030694.0    Buy\n",
            "27  3/26/2014  19.52  19.61  19.25  19.28  299768827.0    Buy\n",
            "28  3/25/2014  19.34  19.49  19.27  19.46  282293468.0   Sell\n",
            "29  3/24/2014  19.23  19.30  19.11  19.26  355699385.0   Sell\n",
            "30  3/21/2014  19.00  19.06  18.80  19.03  374448744.0   Sell\n",
            "31  3/20/2014  18.92  19.02  18.83  18.88  208398139.0    Buy\n",
            "32  3/19/2014  19.01  19.15  18.89  18.97  224755822.0    Buy\n",
            "33  3/18/2014  18.78  19.00  18.76  18.98  209647443.0    Buy\n",
            "34  3/17/2014  18.85  18.93  18.78  18.81  199544287.0    Buy\n",
            "35  3/14/2014  18.89  18.96  18.68  18.74  237197958.0   Sell\n",
            "36  3/13/2014  19.19  19.27  18.90  18.95  257742425.0    Buy\n",
            "37  3/12/2014  19.09  19.19  19.00  19.16  200781803.0   Sell\n",
            "38  3/11/2014  19.12  19.24  19.02  19.15  280795468.0   Sell\n",
            "39  3/10/2014  18.87  19.05  18.87  18.96  178765712.0    Buy\n",
            "40   3/7/2014  18.97  19.00  18.79  18.94  221660954.0   Sell\n",
            "41   3/6/2014  19.03  19.09  18.86  18.96  185692436.0   Sell\n",
            "42   3/5/2014  18.96  19.10  18.90  19.01  200262067.0    Buy\n",
            "43   3/4/2014  18.96  19.02  18.85  18.97  259539325.0   Sell\n",
            "44   3/3/2014  18.69  18.95  18.67  18.85  239137966.0    Buy\n",
            "45  2/28/2014  18.90  19.03  18.65  18.79  372298624.0   Sell\n",
            "46  2/27/2014  18.47  18.89  18.43  18.85  302229187.0    Buy\n",
            "47  2/26/2014  18.70  18.75  18.41  18.48  276525132.0    Buy\n",
            "48  2/25/2014  18.91  18.91  18.61  18.65  232989390.0   Sell\n",
            "49  2/24/2014  18.68  18.93  18.66  18.84  289459788.0    Buy\n",
            "50  2/21/2014  19.03  19.09  18.74  18.76  279028948.0   Sell\n",
            "51  2/20/2014  19.04  19.18  18.89  18.97  306116427.0    Buy\n",
            "52  2/19/2014  19.46  19.53  19.08  19.19  314217666.0    Buy\n",
            "53  2/18/2014  19.50  19.69  19.49  19.50  261224981.0   Sell\n",
            "54  2/14/2014  19.37  19.50  19.33  19.43  273872132.0   Sell\n",
            "55  2/13/2014  19.10  19.46  19.08  19.44  307840667.0    Buy\n",
            "56  2/12/2014  19.18  19.27  19.04  19.14  308508187.0   Sell\n",
            "57  2/11/2014  18.95  19.21  18.91  19.14  282689108.0   Sell\n",
            "58  2/10/2014  18.52  19.00  18.50  18.89  345804185.0   Sell\n",
            "59   2/7/2014  18.62  18.68  18.48  18.56  374554304.0   Sell\n"
          ]
        }
      ],
      "source": [
        "# Load the dataset\n",
        "data, stock_name, user_input = read_stock_csv()\n",
        "\n",
        "# Create a new column 'Buy_or_Not' representing whether to buy or not buy the stock\n",
        "data['Action'] = [action_of_stock(data, idx) for idx in range(len(data))]\n",
        "# Drop the last row as it doesn't have a target value\n",
        "data = data.dropna()\n",
        "\n",
        "# Display the updated dataframe\n",
        "print(data)\n"
      ]
    },
    {
      "cell_type": "markdown",
      "source": [
        "# Time Series Plot of Specific Stock"
      ],
      "metadata": {
        "id": "J0VV_9uW9uir"
      }
    },
    {
      "cell_type": "code",
      "source": [
        "\n",
        "data['Date'] = pd.to_datetime(data['Date'], format='%m/%d/%Y')\n",
        "\n",
        "# Plotting\n",
        "plt.figure(figsize=(12, 6))\n",
        "\n",
        "# Time Series Plot\n",
        "plt.subplot(2, 1, 1)\n",
        "plt.plot(data['Date'], data['Open'], label='Open', color='blue')\n",
        "plt.plot(data['Date'], data['Close'], label='Close', color='green')\n",
        "plt.title(f'Open and Close Prices Over Time - {stock_name}')\n",
        "plt.xlabel('Date')\n",
        "plt.ylabel('Price')\n",
        "plt.legend()\n",
        "\n",
        "# Volume Plot\n",
        "plt.subplot(2, 1, 2)\n",
        "plt.plot(data['Date'], data['Volume'])\n",
        "plt.title(f'Volume Over Time - {stock_name}')\n",
        "plt.xlabel('Date')\n",
        "plt.ylabel('Volume')\n",
        "\n",
        "# Rotate x-axis labels\n",
        "plt.xticks(rotation=45)\n",
        "\n",
        "plt.tight_layout()\n",
        "plt.show()"
      ],
      "metadata": {
        "colab": {
          "base_uri": "https://localhost:8080/",
          "height": 607
        },
        "id": "DQ5oHT307fOf",
        "outputId": "dd28b020-687b-4e90-e0c3-98fe5ebf4aca"
      },
      "execution_count": null,
      "outputs": [
        {
          "output_type": "display_data",
          "data": {
            "text/plain": [
              "<Figure size 1200x600 with 2 Axes>"
            ],
            "image/png": "[encoded data removed]"
          },
          "metadata": {}
        }
      ]
    },
    {
      "cell_type": "markdown",
      "source": [
        "# Candlestick Plot of Specific Stock"
      ],
      "metadata": {
        "id": "oIuzL5Hb9rWf"
      }
    },
    {
      "cell_type": "code",
      "source": [
        "\n",
        "# Convert columns to appropriate data types\n",
        "data['Open'] = data['Open'].astype(float)\n",
        "data['High'] = data['High'].astype(float)\n",
        "data['Low'] = data['Low'].astype(float)\n",
        "data['Close'] = data['Close'].astype(float)\n",
        "\n",
        "# Remove commas from the 'Volume' column and convert to int\n",
        "data['Volume'] = data['Volume'].replace(',', '', regex=True).astype(int)\n",
        "\n",
        "# Set 'Date' as the index\n",
        "data.set_index('Date', inplace=True)\n",
        "\n",
        "# Plotting the candlestick chart\n",
        "mpf.plot(data, type='candle', style='charles')\n"
      ],
      "metadata": {
        "colab": {
          "base_uri": "https://localhost:8080/",
          "height": 529
        },
        "id": "bM-eC1n181FH",
        "outputId": "a92a3a96-5c33-4706-b929-1054ce6ec657"
      },
      "execution_count": null,
      "outputs": [
        {
          "output_type": "display_data",
          "data": {
            "text/plain": [
              "<Figure size 800x575 with 2 Axes>"
            ],
            "image/png": "[encoded data removed]"
          },
          "metadata": {}
        }
      ]
    },
    {
      "cell_type": "markdown",
      "source": [
        "# Action Plot of Specific Stock"
      ],
      "metadata": {
        "id": "Jxhfuk8qLhX7"
      }
    },
    {
      "cell_type": "code",
      "source": [
        "\n",
        "# Ensure 'Date' is accessible as a column\n",
        "data.reset_index(inplace=True)  # This moves 'Date' back to a column\n",
        "\n",
        "plt.figure(figsize=(10, 5))\n",
        "plt.scatter(data['Date'], data['Action'], color='red')\n",
        "plt.title('Action Plot')\n",
        "plt.xlabel('Date')\n",
        "plt.ylabel('Action')\n",
        "plt.yticks([0, 1], ['Sell', 'Buy'])\n",
        "plt.grid(True)\n",
        "plt.show()\n"
      ],
      "metadata": {
        "colab": {
          "base_uri": "https://localhost:8080/",
          "height": 491
        },
        "id": "75wNQ2bd9mXl",
        "outputId": "f733fbf0-d4cc-4479-e20b-00e527150831"
      },
      "execution_count": null,
      "outputs": [
        {
          "output_type": "display_data",
          "data": {
            "text/plain": [
              "<Figure size 1000x500 with 1 Axes>"
            ],
            "image/png": "[encoded data removed]"
          },
          "metadata": {}
        }
      ]
    },
    {
      "cell_type": "markdown",
      "source": [
        "#Here we define the features and target variable"
      ],
      "metadata": {
        "id": "09tDUG8ILlKj"
      }
    },
    {
      "cell_type": "code",
      "source": [
        "X = data[['Open', 'High', 'Low', 'Close', 'Volume']].values\n",
        "y = data['Action'].values"
      ],
      "metadata": {
        "id": "SFGOi_3fmI8I"
      },
      "execution_count": null,
      "outputs": []
    },
    {
      "cell_type": "markdown",
      "source": [
        "#We scale the input to be in specific range of   values  and We scale the target variables using label encoding"
      ],
      "metadata": {
        "id": "hDYR7dAOL1cF"
      }
    },
    {
      "cell_type": "code",
      "source": [
        "\n",
        "scaler = StandardScaler()\n",
        "le = LabelEncoder()\n",
        "\n",
        "X_scaled = scaler.fit_transform(X)\n",
        "y_scaled = le.fit_transform(y)\n",
        "X_train, X_test, y_train, y_test = train_test_split(X_scaled, y_scaled, test_size=0.30, random_state=38)\n",
        "\n"
      ],
      "metadata": {
        "id": "W861W-qywxKE"
      },
      "execution_count": null,
      "outputs": []
    },
    {
      "cell_type": "markdown",
      "source": [
        "# Model Definition, After checking with multiple hidden units, we have selected the following hidden units"
      ],
      "metadata": {
        "id": "FyOGHJ6_MhvC"
      }
    },
    {
      "cell_type": "code",
      "source": [
        "model = Sequential([\n",
        "    Input(shape=(X.shape[1],)),\n",
        "    Dense(128, activation='relu'),\n",
        "    Dense(256, activation='relu'),\n",
        "    Dense(1, activation='sigmoid')\n",
        "])\n",
        "\n",
        "\n",
        "model.compile(optimizer='adam', loss='binary_crossentropy', metrics=['accuracy'])\n",
        "\n",
        "history = model.fit(X_scaled, y_scaled, epochs=50, batch_size=30)\n",
        "\n",
        "predictions = model.predict(X_test)\n",
        "binary_predictions = (predictions > 0.5).astype(int)\n",
        "label_predictions = ['Buy' if pred > 0.5 else 'Sell' for pred in predictions]\n",
        "\n"
      ],
      "metadata": {
        "id": "IrNqw52jJrwQ",
        "colab": {
          "base_uri": "https://localhost:8080/"
        },
        "outputId": "7601feac-5d55-4825-8fa1-41078edf4ece"
      },
      "execution_count": 19,
      "outputs": [
        {
          "output_type": "stream",
          "name": "stdout",
          "text": [
            "Epoch 1/50\n",
            "\u001b[1m2/2\u001b[0m \u001b[32m━━━━━━━━━━━━━━━━━━━━\u001b[0m\u001b[37m\u001b[0m \u001b[1m5s\u001b[0m 19ms/step - accuracy: 0.4045 - loss: 0.7178\n",
            "Epoch 2/50\n",
            "\u001b[1m2/2\u001b[0m \u001b[32m━━━━━━━━━━━━━━━━━━━━\u001b[0m\u001b[37m\u001b[0m \u001b[1m0s\u001b[0m 17ms/step - accuracy: 0.6066 - loss: 0.6865 \n",
            "Epoch 3/50\n",
            "\u001b[1m2/2\u001b[0m \u001b[32m━━━━━━━━━━━━━━━━━━━━\u001b[0m\u001b[37m\u001b[0m \u001b[1m0s\u001b[0m 19ms/step - accuracy: 0.5729 - loss: 0.6796\n",
            "Epoch 4/50\n",
            "\u001b[1m2/2\u001b[0m \u001b[32m━━━━━━━━━━━━━━━━━━━━\u001b[0m\u001b[37m\u001b[0m \u001b[1m0s\u001b[0m 20ms/step - accuracy: 0.6288 - loss: 0.6761\n",
            "Epoch 5/50\n",
            "\u001b[1m2/2\u001b[0m \u001b[32m━━━━━━━━━━━━━━━━━━━━\u001b[0m\u001b[37m\u001b[0m \u001b[1m0s\u001b[0m 15ms/step - accuracy: 0.6066 - loss: 0.6730 \n",
            "Epoch 6/50\n",
            "\u001b[1m2/2\u001b[0m \u001b[32m━━━━━━━━━━━━━━━━━━━━\u001b[0m\u001b[37m\u001b[0m \u001b[1m0s\u001b[0m 17ms/step - accuracy: 0.6407 - loss: 0.6747 \n",
            "Epoch 7/50\n",
            "\u001b[1m2/2\u001b[0m \u001b[32m━━━━━━━━━━━━━━━━━━━━\u001b[0m\u001b[37m\u001b[0m \u001b[1m0s\u001b[0m 16ms/step - accuracy: 0.6738 - loss: 0.6533 \n",
            "Epoch 8/50\n",
            "\u001b[1m2/2\u001b[0m \u001b[32m━━━━━━━━━━━━━━━━━━━━\u001b[0m\u001b[37m\u001b[0m \u001b[1m0s\u001b[0m 19ms/step - accuracy: 0.6292 - loss: 0.6672 \n",
            "Epoch 9/50\n",
            "\u001b[1m2/2\u001b[0m \u001b[32m━━━━━━━━━━━━━━━━━━━━\u001b[0m\u001b[37m\u001b[0m \u001b[1m0s\u001b[0m 16ms/step - accuracy: 0.5844 - loss: 0.6616\n",
            "Epoch 10/50\n",
            "\u001b[1m2/2\u001b[0m \u001b[32m━━━━━━━━━━━━━━━━━━━━\u001b[0m\u001b[37m\u001b[0m \u001b[1m0s\u001b[0m 17ms/step - accuracy: 0.6290 - loss: 0.6496 \n",
            "Epoch 11/50\n",
            "\u001b[1m2/2\u001b[0m \u001b[32m━━━━━━━━━━━━━━━━━━━━\u001b[0m\u001b[37m\u001b[0m \u001b[1m0s\u001b[0m 18ms/step - accuracy: 0.6403 - loss: 0.6537\n",
            "Epoch 12/50\n",
            "\u001b[1m2/2\u001b[0m \u001b[32m━━━━━━━━━━━━━━━━━━━━\u001b[0m\u001b[37m\u001b[0m \u001b[1m0s\u001b[0m 22ms/step - accuracy: 0.5959 - loss: 0.6554 \n",
            "Epoch 13/50\n",
            "\u001b[1m2/2\u001b[0m \u001b[32m━━━━━━━━━━━━━━━━━━━━\u001b[0m\u001b[37m\u001b[0m \u001b[1m0s\u001b[0m 18ms/step - accuracy: 0.6405 - loss: 0.6508\n",
            "Epoch 14/50\n",
            "\u001b[1m2/2\u001b[0m \u001b[32m━━━━━━━━━━━━━━━━━━━━\u001b[0m\u001b[37m\u001b[0m \u001b[1m0s\u001b[0m 23ms/step - accuracy: 0.6625 - loss: 0.6397 \n",
            "Epoch 15/50\n",
            "\u001b[1m2/2\u001b[0m \u001b[32m━━━━━━━━━━━━━━━━━━━━\u001b[0m\u001b[37m\u001b[0m \u001b[1m0s\u001b[0m 19ms/step - accuracy: 0.6181 - loss: 0.6392\n",
            "Epoch 16/50\n",
            "\u001b[1m2/2\u001b[0m \u001b[32m━━━━━━━━━━━━━━━━━━━━\u001b[0m\u001b[37m\u001b[0m \u001b[1m0s\u001b[0m 22ms/step - accuracy: 0.6960 - loss: 0.6287 \n",
            "Epoch 17/50\n",
            "\u001b[1m2/2\u001b[0m \u001b[32m━━━━━━━━━━━━━━━━━━━━\u001b[0m\u001b[37m\u001b[0m \u001b[1m0s\u001b[0m 15ms/step - accuracy: 0.6740 - loss: 0.6412 \n",
            "Epoch 18/50\n",
            "\u001b[1m2/2\u001b[0m \u001b[32m━━━━━━━━━━━━━━━━━━━━\u001b[0m\u001b[37m\u001b[0m \u001b[1m0s\u001b[0m 14ms/step - accuracy: 0.6072 - loss: 0.6474 \n",
            "Epoch 19/50\n",
            "\u001b[1m2/2\u001b[0m \u001b[32m━━━━━━━━━━━━━━━━━━━━\u001b[0m\u001b[37m\u001b[0m \u001b[1m0s\u001b[0m 15ms/step - accuracy: 0.6294 - loss: 0.6479\n",
            "Epoch 20/50\n",
            "\u001b[1m2/2\u001b[0m \u001b[32m━━━━━━━━━━━━━━━━━━━━\u001b[0m\u001b[37m\u001b[0m \u001b[1m0s\u001b[0m 14ms/step - accuracy: 0.6629 - loss: 0.6416 \n",
            "Epoch 21/50\n",
            "\u001b[1m2/2\u001b[0m \u001b[32m━━━━━━━━━━━━━━━━━━━━\u001b[0m\u001b[37m\u001b[0m \u001b[1m0s\u001b[0m 25ms/step - accuracy: 0.6629 - loss: 0.6336 \n",
            "Epoch 22/50\n",
            "\u001b[1m2/2\u001b[0m \u001b[32m━━━━━━━━━━━━━━━━━━━━\u001b[0m\u001b[37m\u001b[0m \u001b[1m0s\u001b[0m 20ms/step - accuracy: 0.6296 - loss: 0.6311 \n",
            "Epoch 23/50\n",
            "\u001b[1m2/2\u001b[0m \u001b[32m━━━━━━━━━━━━━━━━━━━━\u001b[0m\u001b[37m\u001b[0m \u001b[1m0s\u001b[0m 21ms/step - accuracy: 0.6518 - loss: 0.6240\n",
            "Epoch 24/50\n",
            "\u001b[1m2/2\u001b[0m \u001b[32m━━━━━━━━━━━━━━━━━━━━\u001b[0m\u001b[37m\u001b[0m \u001b[1m0s\u001b[0m 21ms/step - accuracy: 0.6520 - loss: 0.6257\n",
            "Epoch 25/50\n",
            "\u001b[1m2/2\u001b[0m \u001b[32m━━━━━━━━━━━━━━━━━━━━\u001b[0m\u001b[37m\u001b[0m \u001b[1m0s\u001b[0m 19ms/step - accuracy: 0.6851 - loss: 0.6144 \n",
            "Epoch 26/50\n",
            "\u001b[1m2/2\u001b[0m \u001b[32m━━━━━━━━━━━━━━━━━━━━\u001b[0m\u001b[37m\u001b[0m \u001b[1m0s\u001b[0m 20ms/step - accuracy: 0.6853 - loss: 0.6179\n",
            "Epoch 27/50\n",
            "\u001b[1m2/2\u001b[0m \u001b[32m━━━━━━━━━━━━━━━━━━━━\u001b[0m\u001b[37m\u001b[0m \u001b[1m0s\u001b[0m 15ms/step - accuracy: 0.6964 - loss: 0.6082\n",
            "Epoch 28/50\n",
            "\u001b[1m2/2\u001b[0m \u001b[32m━━━━━━━━━━━━━━━━━━━━\u001b[0m\u001b[37m\u001b[0m \u001b[1m0s\u001b[0m 19ms/step - accuracy: 0.6855 - loss: 0.6192\n",
            "Epoch 29/50\n",
            "\u001b[1m2/2\u001b[0m \u001b[32m━━━━━━━━━━━━━━━━━━━━\u001b[0m\u001b[37m\u001b[0m \u001b[1m0s\u001b[0m 21ms/step - accuracy: 0.6855 - loss: 0.6181\n",
            "Epoch 30/50\n",
            "\u001b[1m2/2\u001b[0m \u001b[32m━━━━━━━━━━━━━━━━━━━━\u001b[0m\u001b[37m\u001b[0m \u001b[1m0s\u001b[0m 17ms/step - accuracy: 0.6964 - loss: 0.6045\n",
            "Epoch 31/50\n",
            "\u001b[1m2/2\u001b[0m \u001b[32m━━━━━━━━━━━━━━━━━━━━\u001b[0m\u001b[37m\u001b[0m \u001b[1m0s\u001b[0m 15ms/step - accuracy: 0.6966 - loss: 0.6027\n",
            "Epoch 32/50\n",
            "\u001b[1m2/2\u001b[0m \u001b[32m━━━━━━━━━━━━━━━━━━━━\u001b[0m\u001b[37m\u001b[0m \u001b[1m0s\u001b[0m 19ms/step - accuracy: 0.6631 - loss: 0.6047 \n",
            "Epoch 33/50\n",
            "\u001b[1m2/2\u001b[0m \u001b[32m━━━━━━━━━━━━━━━━━━━━\u001b[0m\u001b[37m\u001b[0m \u001b[1m0s\u001b[0m 16ms/step - accuracy: 0.7077 - loss: 0.6041\n",
            "Epoch 34/50\n",
            "\u001b[1m2/2\u001b[0m \u001b[32m━━━━━━━━━━━━━━━━━━━━\u001b[0m\u001b[37m\u001b[0m \u001b[1m0s\u001b[0m 16ms/step - accuracy: 0.6966 - loss: 0.6004\n",
            "Epoch 35/50\n",
            "\u001b[1m2/2\u001b[0m \u001b[32m━━━━━━━━━━━━━━━━━━━━\u001b[0m\u001b[37m\u001b[0m \u001b[1m0s\u001b[0m 14ms/step - accuracy: 0.6966 - loss: 0.6003 \n",
            "Epoch 36/50\n",
            "\u001b[1m2/2\u001b[0m \u001b[32m━━━━━━━━━━━━━━━━━━━━\u001b[0m\u001b[37m\u001b[0m \u001b[1m0s\u001b[0m 18ms/step - accuracy: 0.6855 - loss: 0.5940 \n",
            "Epoch 37/50\n",
            "\u001b[1m2/2\u001b[0m \u001b[32m━━━━━━━━━━━━━━━━━━━━\u001b[0m\u001b[37m\u001b[0m \u001b[1m0s\u001b[0m 17ms/step - accuracy: 0.6966 - loss: 0.5942 \n",
            "Epoch 38/50\n",
            "\u001b[1m2/2\u001b[0m \u001b[32m━━━━━━━━━━━━━━━━━━━━\u001b[0m\u001b[37m\u001b[0m \u001b[1m0s\u001b[0m 16ms/step - accuracy: 0.7411 - loss: 0.5750\n",
            "Epoch 39/50\n",
            "\u001b[1m2/2\u001b[0m \u001b[32m━━━━━━━━━━━━━━━━━━━━\u001b[0m\u001b[37m\u001b[0m \u001b[1m0s\u001b[0m 15ms/step - accuracy: 0.6968 - loss: 0.6085\n",
            "Epoch 40/50\n",
            "\u001b[1m2/2\u001b[0m \u001b[32m━━━━━━━━━━━━━━━━━━━━\u001b[0m\u001b[37m\u001b[0m \u001b[1m0s\u001b[0m 16ms/step - accuracy: 0.6518 - loss: 0.6113\n",
            "Epoch 41/50\n",
            "\u001b[1m2/2\u001b[0m \u001b[32m━━━━━━━━━━━━━━━━━━━━\u001b[0m\u001b[37m\u001b[0m \u001b[1m0s\u001b[0m 16ms/step - accuracy: 0.6853 - loss: 0.5835\n",
            "Epoch 42/50\n",
            "\u001b[1m2/2\u001b[0m \u001b[32m━━━━━━━━━━━━━━━━━━━━\u001b[0m\u001b[37m\u001b[0m \u001b[1m0s\u001b[0m 19ms/step - accuracy: 0.6968 - loss: 0.5882\n",
            "Epoch 43/50\n",
            "\u001b[1m2/2\u001b[0m \u001b[32m━━━━━━━━━━━━━━━━━━━━\u001b[0m\u001b[37m\u001b[0m \u001b[1m0s\u001b[0m 21ms/step - accuracy: 0.6855 - loss: 0.5988 \n",
            "Epoch 44/50\n",
            "\u001b[1m2/2\u001b[0m \u001b[32m━━━━━━━━━━━━━━━━━━━━\u001b[0m\u001b[37m\u001b[0m \u001b[1m0s\u001b[0m 19ms/step - accuracy: 0.6966 - loss: 0.5790 \n",
            "Epoch 45/50\n",
            "\u001b[1m2/2\u001b[0m \u001b[32m━━━━━━━━━━━━━━━━━━━━\u001b[0m\u001b[37m\u001b[0m \u001b[1m0s\u001b[0m 28ms/step - accuracy: 0.7303 - loss: 0.5700 \n",
            "Epoch 46/50\n",
            "\u001b[1m2/2\u001b[0m \u001b[32m━━━━━━━━━━━━━━━━━━━━\u001b[0m\u001b[37m\u001b[0m \u001b[1m0s\u001b[0m 26ms/step - accuracy: 0.7529 - loss: 0.5853 \n",
            "Epoch 47/50\n",
            "\u001b[1m2/2\u001b[0m \u001b[32m━━━━━━━━━━━━━━━━━━━━\u001b[0m\u001b[37m\u001b[0m \u001b[1m0s\u001b[0m 23ms/step - accuracy: 0.7529 - loss: 0.5893 \n",
            "Epoch 48/50\n",
            "\u001b[1m2/2\u001b[0m \u001b[32m━━━━━━━━━━━━━━━━━━━━\u001b[0m\u001b[37m\u001b[0m \u001b[1m0s\u001b[0m 17ms/step - accuracy: 0.7305 - loss: 0.5826 \n",
            "Epoch 49/50\n",
            "\u001b[1m2/2\u001b[0m \u001b[32m━━━━━━━━━━━━━━━━━━━━\u001b[0m\u001b[37m\u001b[0m \u001b[1m0s\u001b[0m 11ms/step - accuracy: 0.7192 - loss: 0.5721 \n",
            "Epoch 50/50\n",
            "\u001b[1m2/2\u001b[0m \u001b[32m━━━━━━━━━━━━━━━━━━━━\u001b[0m\u001b[37m\u001b[0m \u001b[1m0s\u001b[0m 12ms/step - accuracy: 0.7529 - loss: 0.5666 \n",
            "\u001b[1m1/1\u001b[0m \u001b[32m━━━━━━━━━━━━━━━━━━━━\u001b[0m\u001b[37m\u001b[0m \u001b[1m0s\u001b[0m 215ms/step\n"
          ]
        }
      ]
    },
    {
      "cell_type": "markdown",
      "source": [
        "#Predictions formed after labelling the binary predicitons"
      ],
      "metadata": {
        "id": "XGOc_fDKM0_2"
      }
    },
    {
      "cell_type": "code",
      "source": [
        "print(label_predictions)"
      ],
      "metadata": {
        "id": "zNgxzqXHyYuD",
        "colab": {
          "base_uri": "https://localhost:8080/"
        },
        "outputId": "fb8e2182-2ca0-44f1-f0bf-e5eb4cbe5d83"
      },
      "execution_count": 20,
      "outputs": [
        {
          "output_type": "stream",
          "name": "stdout",
          "text": [
            "['Sell', 'Sell', 'Buy', 'Buy', 'Buy', 'Buy', 'Sell', 'Buy', 'Buy', 'Sell', 'Buy', 'Buy', 'Buy', 'Sell', 'Sell', 'Sell', 'Sell', 'Buy']\n"
          ]
        }
      ]
    },
    {
      "cell_type": "markdown",
      "source": [
        "# We have labelled the y_test in this model, make sure to label the data you are using to validate"
      ],
      "metadata": {
        "id": "aLByW7lPM-iS"
      }
    },
    {
      "cell_type": "code",
      "source": [
        "labeled_y_test = ['Buy' if element == 1  else 'Sell' for element in y_test]\n"
      ],
      "metadata": {
        "id": "kBNxVLszyvYr"
      },
      "execution_count": 21,
      "outputs": []
    },
    {
      "cell_type": "markdown",
      "source": [
        "#Creating Confusion matrix and Classification Report"
      ],
      "metadata": {
        "id": "E99pZQwINGGA"
      }
    },
    {
      "cell_type": "code",
      "source": [
        "from sklearn.metrics import classification_report, confusion_matrix, accuracy_score\n",
        "accuracy=accuracy_score(binary_predictions, y_test)\n",
        "conf_matrix = confusion_matrix(label_predictions,labeled_y_test,labels=[\"Sell\",\"Buy\"])\n",
        "classification_rep = classification_report(label_predictions,labeled_y_test)\n",
        "\n",
        "print(\"Accuracy:\", accuracy)\n",
        "print(\"Confusion Matrix:\")\n",
        "print(conf_matrix)\n",
        "print(\"Classification Report:\")\n",
        "print(classification_rep)\n",
        "disp = ConfusionMatrixDisplay(confusion_matrix=conf_matrix,\n",
        "                              display_labels=[\"Sell\",\"Buy\"])\n",
        "disp.plot()\n",
        "plt.show()\n"
      ],
      "metadata": {
        "id": "Lp-upqwhmNXW",
        "colab": {
          "base_uri": "https://localhost:8080/",
          "height": 709
        },
        "outputId": "bb48426d-f12c-464c-ad38-c5a993efbd50"
      },
      "execution_count": 22,
      "outputs": [
        {
          "output_type": "stream",
          "name": "stdout",
          "text": [
            "Accuracy: 0.7777777777777778\n",
            "Confusion Matrix:\n",
            "[[6 2]\n",
            " [2 8]]\n",
            "Classification Report:\n",
            "              precision    recall  f1-score   support\n",
            "\n",
            "         Buy       0.80      0.80      0.80        10\n",
            "        Sell       0.75      0.75      0.75         8\n",
            "\n",
            "    accuracy                           0.78        18\n",
            "   macro avg       0.78      0.78      0.78        18\n",
            "weighted avg       0.78      0.78      0.78        18\n",
            "\n"
          ]
        },
        {
          "output_type": "display_data",
          "data": {
            "text/plain": [
              "<Figure size 640x480 with 2 Axes>"
            ],
            "image/png": "[encoded data removed]"
          },
          "metadata": {}
        }
      ]
    },
    {
      "cell_type": "markdown",
      "source": [
        "# Numeric Predictive Suggestion"
      ],
      "metadata": {
        "id": "W3PYu6TqL-8V"
      }
    },
    {
      "cell_type": "code",
      "source": [
        "if label_predictions.count('Buy') > label_predictions.count(\"Sell\"):\n",
        "  print(\"Buy the stocks\")\n",
        "else:\n",
        "   print(\"Sell the stocks\")\n",
        "\n"
      ],
      "metadata": {
        "id": "GwkJdZRYyX7m",
        "colab": {
          "base_uri": "https://localhost:8080/"
        },
        "outputId": "12cdf933-6ef9-4332-812c-a319c45e3ca3"
      },
      "execution_count": 23,
      "outputs": [
        {
          "output_type": "stream",
          "name": "stdout",
          "text": [
            "Buy the stocks\n"
          ]
        }
      ]
    },
    {
      "cell_type": "markdown",
      "source": [
        "#Saving the model"
      ],
      "metadata": {
        "id": "4a1Legx-0-JB"
      }
    },
    {
      "cell_type": "code",
      "source": [
        "model.save('binary_model.h5')"
      ],
      "metadata": {
        "id": "JviKup2p09el",
        "colab": {
          "base_uri": "https://localhost:8080/"
        },
        "outputId": "296e8b8d-0dee-4a64-95bf-86e088ada0e3"
      },
      "execution_count": 24,
      "outputs": [
        {
          "output_type": "stream",
          "name": "stderr",
          "text": [
            "WARNING:absl:You are saving your model as an HDF5 file via `model.save()` or `keras.saving.save_model(model)`. This file format is considered legacy. We recommend using instead the native Keras format, e.g. `model.save('my_model.keras')` or `keras.saving.save_model(model, 'my_model.keras')`. \n"
          ]
        }
      ]
    },
    {
      "cell_type": "markdown",
      "source": [
        "# ROC-CURVE"
      ],
      "metadata": {
        "id": "d0hiZ6WhNLw0"
      }
    },
    {
      "cell_type": "code",
      "source": [
        "import numpy as np\n",
        "import matplotlib.pyplot as plt\n",
        "from sklearn.metrics import roc_curve, auc\n",
        "\n",
        "fpr, tpr, thresholds = roc_curve(y_test, binary_predictions)\n",
        "\n",
        "roc_auc = auc(fpr, tpr)\n",
        "\n",
        "plt.figure()\n",
        "plt.plot(fpr, tpr, color='darkorange', lw=2, label='ROC curve (area = %0.2f)' % roc_auc)\n",
        "plt.plot([0, 1], [0, 1], color='navy', lw=2, linestyle='--')\n",
        "plt.xlim([0.0, 1.0])\n",
        "plt.ylim([0.0, 1.05])\n",
        "plt.xlabel('False Positive Rate')\n",
        "plt.ylabel('True Positive Rate')\n",
        "plt.title(f'Receiver Operating Characteristic (ROC) Curve - {stock_name}')\n",
        "plt.legend(loc=\"lower right\")\n",
        "plt.show()"
      ],
      "metadata": {
        "id": "W3bYNcFtteQY",
        "colab": {
          "base_uri": "https://localhost:8080/",
          "height": 476
        },
        "outputId": "76ee69e7-1546-4039-b6bf-52f3d6b59709"
      },
      "execution_count": 25,
      "outputs": [
        {
          "output_type": "display_data",
          "data": {
            "text/plain": [
              "<Figure size 640x480 with 1 Axes>"
            ],
            "image/png": "[encoded data removed]"
          },
          "metadata": {}
        }
      ]
    },
    {
      "cell_type": "markdown",
      "source": [
        "#Reading the Predictions of text data that we have used in DistilBertSequenceClassifier"
      ],
      "metadata": {
        "id": "VGWF59vUNSMF"
      }
    },
    {
      "cell_type": "code",
      "source": [
        "def read_text_predictions(user_input):\n",
        "      csv_file_path = f\"/content/sample_data/{user_input} predictions.csv\"  # Assuming the CSV files are saved based on the stock name / Replace with file name as of your predictions\n",
        "      text_Data = pd.read_csv(csv_file_path)\n",
        "      return text_Data\n",
        "\n"
      ],
      "metadata": {
        "id": "3sAACohEHPXO"
      },
      "execution_count": 26,
      "outputs": []
    },
    {
      "cell_type": "markdown",
      "source": [
        "#Creating the Action Column in the dataframe with the respective sentiments of the predictions"
      ],
      "metadata": {
        "id": "E82CQGFBNncu"
      }
    },
    {
      "cell_type": "code",
      "source": [
        "tData = read_text_predictions(user_input)\n",
        "def suggestionConversion(value):\n",
        "  if value == \"Bearish\" or value == \"Neutral\":\n",
        "    return \"Sell\"\n",
        "  else:\n",
        "    return \"Buy\"\n",
        "\n",
        "# Apply the function to the column\n",
        "tData['Sentiment'] = tData['Sentiment'].apply(suggestionConversion)\n",
        "tData['Action'] = tData['Sentiment']\n",
        "tData = tData.drop(columns=['Sentiment'])\n",
        "\n",
        "tData"
      ],
      "metadata": {
        "id": "rvoiu41msmIK",
        "colab": {
          "base_uri": "https://localhost:8080/",
          "height": 1000
        },
        "outputId": "a6719a4c-e940-4720-b876-4e2d4cfa37f4"
      },
      "execution_count": 27,
      "outputs": [
        {
          "output_type": "execute_result",
          "data": {
            "text/plain": [
              "         Date                                               text  Code Action\n",
              "0    5/5/2014  apple raises dividend more than expected 0.52 ...  AAPL    Buy\n",
              "1    5/2/2014  1 billion devices  0.92device  1 trillion in a...  AAPL   Sell\n",
              "2    5/1/2014  and then 20000 731 131strike calls cross on ap...  AAPL   Sell\n",
              "3   4/30/2014  apple shares fell 0.10 to 93.65. its the 8thst...  AAPL   Sell\n",
              "4   4/29/2014  why pay 0.99 for a 2 pencil when you can pay 9...  AAPL   Sell\n",
              "5   4/28/2014  the smartflash patent troll which won 0.5 bn a...  AAPL   Sell\n",
              "6   4/25/2014  not so bad today 5 wins1 loss  83 profitabilit...  AAPL   Sell\n",
              "7   4/24/2014  todays trades contnew    aapl selling the jan ...  AAPL   Sell\n",
              "8   4/23/2014                 apple declares 0.47 dividend aapl   AAPL   Sell\n",
              "9   4/22/2014                  apple declares 0.47 dividend aapl  AAPL   Sell\n",
              "10  4/21/2014                 apple declares 0.47 dividend  aapl  AAPL   Sell\n",
              "11  4/17/2014  apple announces quarterly dividend of 0.47.  p...  AAPL    Buy\n",
              "12  4/16/2014                 apple declares 0.47 dividend  aapl  AAPL   Sell\n",
              "13  4/15/2014  apple inc. declares quarterly dividend of 0.47...  AAPL   Sell\n",
              "14  4/14/2014  and russianmarket according to kensho apple ha...  AAPL    Buy\n",
              "15  4/11/2014  apple inc. declares quarterly dividend of 0.47...  AAPL   Sell\n",
              "16  4/10/2014                  apple declares 0.47 dividend aapl  AAPL   Sell\n",
              "17   4/9/2014  fun fact it only costs about 0.41 per year to ...  AAPL   Sell\n",
              "18   4/8/2014  as i paid the 0.99 to get my 20gbs of icloud  ...  AAPL   Sell\n",
              "19   4/7/2014  about 0.50 away from hitting 2x roi on aapl . ...  AAPL   Sell\n",
              "20   4/4/2014        robinhood 0 trading fees. free invite aapl   AAPL    Buy\n",
              "21   4/3/2014                        apple bought hbo for 0 aapl  AAPL    Buy\n",
              "22   4/2/2014  apple raises dividend to 0.52share per quarter...  AAPL    Buy\n",
              "23   4/1/2014  apple announces quarterly dividend of 0.52.  p...  AAPL    Buy\n",
              "24  3/31/2014  apple inc. declares 0.52 quarterly dividend aapl   AAPL   Sell\n",
              "25  3/28/2014  td0llarsign yes i just closed the position for...  AAPL    Buy\n",
              "26  3/27/2014  25 amazing apps and games are currently on sal...  AAPL   Sell\n",
              "27  3/26/2014  reddogt3 actually low of yd was 0.20 above my ...  AAPL    Buy\n",
              "28  3/25/2014  apple inc. plans to pay 0 to artists at beats ...  AAPL    Buy\n",
              "29  3/24/2014  apple inc. nasdaqaapl plans to pay 0 to artist...  AAPL    Buy\n",
              "30  3/21/2014  apple inc. nasdaqaapl plans to pay artists 0 a...  AAPL    Buy\n",
              "31  3/20/2014  quoththeravensa not staring at it but our tool...  AAPL   Sell\n",
              "32  3/19/2014  apple inc. plans to pay 0 to artists at beats ...  AAPL    Buy\n",
              "33  3/18/2014  apple music will pay labels just 0.002 per str...  AAPL   Sell\n",
              "34  3/17/2014                 apple declares 0.52 dividend aapl   AAPL   Sell\n",
              "35  3/14/2014  apple announces quarterly dividend of 0.52.  p...  AAPL    Buy\n",
              "36  3/13/2014                  apple declares 0.52 dividend aapl  AAPL   Sell\n",
              "37  3/12/2014  apple inc. plans quarterly dividend of 0.52 aapl   AAPL    Buy\n",
              "38  3/11/2014                 apple declares 0.52 dividend  aapl  AAPL   Sell\n",
              "39  3/10/2014                  apple declares 0.52 dividend aapl  AAPL   Sell\n",
              "40   3/7/2014  apple launches massive ios sale w 100 apps for...  AAPL    Buy\n",
              "41   3/6/2014  apple ios app store promotion 100 apps games o...  AAPL   Sell\n",
              "42   3/5/2014  apple inc. to issue quarterly dividend of 0.52...  AAPL   Sell\n",
              "43   3/4/2014   0 loss aapl 2 days ago see my track record  r...  AAPL   Sell\n",
              "44   3/3/2014  apple inc. nasdaqaapl upgrade program will add...  AAPL    Buy\n",
              "45  2/28/2014  new icloud storage tiers now active get 50 gb ...  AAPL   Sell\n",
              "46  2/27/2014  apple disable the 0.99 crystal ad block safari...  AAPL   Sell\n",
              "47  2/26/2014  apple disable the 0.99 crystal ad block safari...  AAPL   Sell\n",
              "48  2/25/2014  apple disable the 0.99 crystal ad block safari...  AAPL   Sell\n",
              "49  2/24/2014  apple disable the 0.99 crystal ad block safari...  AAPL   Sell\n",
              "50  2/21/2014  apple disable the 0.99 crystal ad block safari...  AAPL   Sell\n",
              "51  2/20/2014  apple disable the 0.99 crystal ad block safari...  AAPL   Sell\n",
              "52  2/19/2014  this is the mobile advertising war apple to di...  AAPL   Sell\n",
              "53  2/18/2014  apple disable the 0.99 crystal ad block safari...  AAPL   Sell\n",
              "54  2/14/2014  apple disable the 0.99 crystal ad block safari...  AAPL   Sell\n",
              "55  2/13/2014  apple disable the 0.99 crystal ad block safari...  AAPL   Sell\n",
              "56  2/12/2014  apple disable the 0.99 crystal ad block safari...  AAPL   Sell\n",
              "57  2/11/2014  apple disable the 0.99 crystal ad block safari...  AAPL   Sell\n",
              "58  2/10/2014  apple disable the 0.99 crystal ad block safari...  AAPL   Sell\n",
              "59   2/7/2014  apple disable the 0.99 crystal ad block safari...  AAPL   Sell"
            ],
            "text/html": [
              "\n",
              "  <div id=\"df-89aba2e4-22a2-4fc3-92c7-b5011942bd31\" class=\"colab-df-container\">\n",
              "    <div>\n",
              "<style scoped>\n",
              "    .dataframe tbody tr th:only-of-type {\n",
              "        vertical-align: middle;\n",
              "    }\n",
              "\n",
              "    .dataframe tbody tr th {\n",
              "        vertical-align: top;\n",
              "    }\n",
              "\n",
              "    .dataframe thead th {\n",
              "        text-align: right;\n",
              "    }\n",
              "</style>\n",
              "<table border=\"1\" class=\"dataframe\">\n",
              "  <thead>\n",
              "    <tr style=\"text-align: right;\">\n",
              "      <th></th>\n",
              "      <th>Date</th>\n",
              "      <th>text</th>\n",
              "      <th>Code</th>\n",
              "      <th>Action</th>\n",
              "    </tr>\n",
              "  </thead>\n",
              "  <tbody>\n",
              "    <tr>\n",
              "      <th>0</th>\n",
              "      <td>5/5/2014</td>\n",
              "      <td>apple raises dividend more than expected 0.52 ...</td>\n",
              "      <td>AAPL</td>\n",
              "      <td>Buy</td>\n",
              "    </tr>\n",
              "    <tr>\n",
              "      <th>1</th>\n",
              "      <td>5/2/2014</td>\n",
              "      <td>1 billion devices  0.92device  1 trillion in a...</td>\n",
              "      <td>AAPL</td>\n",
              "      <td>Sell</td>\n",
              "    </tr>\n",
              "    <tr>\n",
              "      <th>2</th>\n",
              "      <td>5/1/2014</td>\n",
              "      <td>and then 20000 731 131strike calls cross on ap...</td>\n",
              "      <td>AAPL</td>\n",
              "      <td>Sell</td>\n",
              "    </tr>\n",
              "    <tr>\n",
              "      <th>3</th>\n",
              "      <td>4/30/2014</td>\n",
              "      <td>apple shares fell 0.10 to 93.65. its the 8thst...</td>\n",
              "      <td>AAPL</td>\n",
              "      <td>Sell</td>\n",
              "    </tr>\n",
              "    <tr>\n",
              "      <th>4</th>\n",
              "      <td>4/29/2014</td>\n",
              "      <td>why pay 0.99 for a 2 pencil when you can pay 9...</td>\n",
              "      <td>AAPL</td>\n",
              "      <td>Sell</td>\n",
              "    </tr>\n",
              "    <tr>\n",
              "      <th>5</th>\n",
              "      <td>4/28/2014</td>\n",
              "      <td>the smartflash patent troll which won 0.5 bn a...</td>\n",
              "      <td>AAPL</td>\n",
              "      <td>Sell</td>\n",
              "    </tr>\n",
              "    <tr>\n",
              "      <th>6</th>\n",
              "      <td>4/25/2014</td>\n",
              "      <td>not so bad today 5 wins1 loss  83 profitabilit...</td>\n",
              "      <td>AAPL</td>\n",
              "      <td>Sell</td>\n",
              "    </tr>\n",
              "    <tr>\n",
              "      <th>7</th>\n",
              "      <td>4/24/2014</td>\n",
              "      <td>todays trades contnew    aapl selling the jan ...</td>\n",
              "      <td>AAPL</td>\n",
              "      <td>Sell</td>\n",
              "    </tr>\n",
              "    <tr>\n",
              "      <th>8</th>\n",
              "      <td>4/23/2014</td>\n",
              "      <td>apple declares 0.47 dividend aapl</td>\n",
              "      <td>AAPL</td>\n",
              "      <td>Sell</td>\n",
              "    </tr>\n",
              "    <tr>\n",
              "      <th>9</th>\n",
              "      <td>4/22/2014</td>\n",
              "      <td>apple declares 0.47 dividend aapl</td>\n",
              "      <td>AAPL</td>\n",
              "      <td>Sell</td>\n",
              "    </tr>\n",
              "    <tr>\n",
              "      <th>10</th>\n",
              "      <td>4/21/2014</td>\n",
              "      <td>apple declares 0.47 dividend  aapl</td>\n",
              "      <td>AAPL</td>\n",
              "      <td>Sell</td>\n",
              "    </tr>\n",
              "    <tr>\n",
              "      <th>11</th>\n",
              "      <td>4/17/2014</td>\n",
              "      <td>apple announces quarterly dividend of 0.47.  p...</td>\n",
              "      <td>AAPL</td>\n",
              "      <td>Buy</td>\n",
              "    </tr>\n",
              "    <tr>\n",
              "      <th>12</th>\n",
              "      <td>4/16/2014</td>\n",
              "      <td>apple declares 0.47 dividend  aapl</td>\n",
              "      <td>AAPL</td>\n",
              "      <td>Sell</td>\n",
              "    </tr>\n",
              "    <tr>\n",
              "      <th>13</th>\n",
              "      <td>4/15/2014</td>\n",
              "      <td>apple inc. declares quarterly dividend of 0.47...</td>\n",
              "      <td>AAPL</td>\n",
              "      <td>Sell</td>\n",
              "    </tr>\n",
              "    <tr>\n",
              "      <th>14</th>\n",
              "      <td>4/14/2014</td>\n",
              "      <td>and russianmarket according to kensho apple ha...</td>\n",
              "      <td>AAPL</td>\n",
              "      <td>Buy</td>\n",
              "    </tr>\n",
              "    <tr>\n",
              "      <th>15</th>\n",
              "      <td>4/11/2014</td>\n",
              "      <td>apple inc. declares quarterly dividend of 0.47...</td>\n",
              "      <td>AAPL</td>\n",
              "      <td>Sell</td>\n",
              "    </tr>\n",
              "    <tr>\n",
              "      <th>16</th>\n",
              "      <td>4/10/2014</td>\n",
              "      <td>apple declares 0.47 dividend aapl</td>\n",
              "      <td>AAPL</td>\n",
              "      <td>Sell</td>\n",
              "    </tr>\n",
              "    <tr>\n",
              "      <th>17</th>\n",
              "      <td>4/9/2014</td>\n",
              "      <td>fun fact it only costs about 0.41 per year to ...</td>\n",
              "      <td>AAPL</td>\n",
              "      <td>Sell</td>\n",
              "    </tr>\n",
              "    <tr>\n",
              "      <th>18</th>\n",
              "      <td>4/8/2014</td>\n",
              "      <td>as i paid the 0.99 to get my 20gbs of icloud  ...</td>\n",
              "      <td>AAPL</td>\n",
              "      <td>Sell</td>\n",
              "    </tr>\n",
              "    <tr>\n",
              "      <th>19</th>\n",
              "      <td>4/7/2014</td>\n",
              "      <td>about 0.50 away from hitting 2x roi on aapl . ...</td>\n",
              "      <td>AAPL</td>\n",
              "      <td>Sell</td>\n",
              "    </tr>\n",
              "    <tr>\n",
              "      <th>20</th>\n",
              "      <td>4/4/2014</td>\n",
              "      <td>robinhood 0 trading fees. free invite aapl</td>\n",
              "      <td>AAPL</td>\n",
              "      <td>Buy</td>\n",
              "    </tr>\n",
              "    <tr>\n",
              "      <th>21</th>\n",
              "      <td>4/3/2014</td>\n",
              "      <td>apple bought hbo for 0 aapl</td>\n",
              "      <td>AAPL</td>\n",
              "      <td>Buy</td>\n",
              "    </tr>\n",
              "    <tr>\n",
              "      <th>22</th>\n",
              "      <td>4/2/2014</td>\n",
              "      <td>apple raises dividend to 0.52share per quarter...</td>\n",
              "      <td>AAPL</td>\n",
              "      <td>Buy</td>\n",
              "    </tr>\n",
              "    <tr>\n",
              "      <th>23</th>\n",
              "      <td>4/1/2014</td>\n",
              "      <td>apple announces quarterly dividend of 0.52.  p...</td>\n",
              "      <td>AAPL</td>\n",
              "      <td>Buy</td>\n",
              "    </tr>\n",
              "    <tr>\n",
              "      <th>24</th>\n",
              "      <td>3/31/2014</td>\n",
              "      <td>apple inc. declares 0.52 quarterly dividend aapl</td>\n",
              "      <td>AAPL</td>\n",
              "      <td>Sell</td>\n",
              "    </tr>\n",
              "    <tr>\n",
              "      <th>25</th>\n",
              "      <td>3/28/2014</td>\n",
              "      <td>td0llarsign yes i just closed the position for...</td>\n",
              "      <td>AAPL</td>\n",
              "      <td>Buy</td>\n",
              "    </tr>\n",
              "    <tr>\n",
              "      <th>26</th>\n",
              "      <td>3/27/2014</td>\n",
              "      <td>25 amazing apps and games are currently on sal...</td>\n",
              "      <td>AAPL</td>\n",
              "      <td>Sell</td>\n",
              "    </tr>\n",
              "    <tr>\n",
              "      <th>27</th>\n",
              "      <td>3/26/2014</td>\n",
              "      <td>reddogt3 actually low of yd was 0.20 above my ...</td>\n",
              "      <td>AAPL</td>\n",
              "      <td>Buy</td>\n",
              "    </tr>\n",
              "    <tr>\n",
              "      <th>28</th>\n",
              "      <td>3/25/2014</td>\n",
              "      <td>apple inc. plans to pay 0 to artists at beats ...</td>\n",
              "      <td>AAPL</td>\n",
              "      <td>Buy</td>\n",
              "    </tr>\n",
              "    <tr>\n",
              "      <th>29</th>\n",
              "      <td>3/24/2014</td>\n",
              "      <td>apple inc. nasdaqaapl plans to pay 0 to artist...</td>\n",
              "      <td>AAPL</td>\n",
              "      <td>Buy</td>\n",
              "    </tr>\n",
              "    <tr>\n",
              "      <th>30</th>\n",
              "      <td>3/21/2014</td>\n",
              "      <td>apple inc. nasdaqaapl plans to pay artists 0 a...</td>\n",
              "      <td>AAPL</td>\n",
              "      <td>Buy</td>\n",
              "    </tr>\n",
              "    <tr>\n",
              "      <th>31</th>\n",
              "      <td>3/20/2014</td>\n",
              "      <td>quoththeravensa not staring at it but our tool...</td>\n",
              "      <td>AAPL</td>\n",
              "      <td>Sell</td>\n",
              "    </tr>\n",
              "    <tr>\n",
              "      <th>32</th>\n",
              "      <td>3/19/2014</td>\n",
              "      <td>apple inc. plans to pay 0 to artists at beats ...</td>\n",
              "      <td>AAPL</td>\n",
              "      <td>Buy</td>\n",
              "    </tr>\n",
              "    <tr>\n",
              "      <th>33</th>\n",
              "      <td>3/18/2014</td>\n",
              "      <td>apple music will pay labels just 0.002 per str...</td>\n",
              "      <td>AAPL</td>\n",
              "      <td>Sell</td>\n",
              "    </tr>\n",
              "    <tr>\n",
              "      <th>34</th>\n",
              "      <td>3/17/2014</td>\n",
              "      <td>apple declares 0.52 dividend aapl</td>\n",
              "      <td>AAPL</td>\n",
              "      <td>Sell</td>\n",
              "    </tr>\n",
              "    <tr>\n",
              "      <th>35</th>\n",
              "      <td>3/14/2014</td>\n",
              "      <td>apple announces quarterly dividend of 0.52.  p...</td>\n",
              "      <td>AAPL</td>\n",
              "      <td>Buy</td>\n",
              "    </tr>\n",
              "    <tr>\n",
              "      <th>36</th>\n",
              "      <td>3/13/2014</td>\n",
              "      <td>apple declares 0.52 dividend aapl</td>\n",
              "      <td>AAPL</td>\n",
              "      <td>Sell</td>\n",
              "    </tr>\n",
              "    <tr>\n",
              "      <th>37</th>\n",
              "      <td>3/12/2014</td>\n",
              "      <td>apple inc. plans quarterly dividend of 0.52 aapl</td>\n",
              "      <td>AAPL</td>\n",
              "      <td>Buy</td>\n",
              "    </tr>\n",
              "    <tr>\n",
              "      <th>38</th>\n",
              "      <td>3/11/2014</td>\n",
              "      <td>apple declares 0.52 dividend  aapl</td>\n",
              "      <td>AAPL</td>\n",
              "      <td>Sell</td>\n",
              "    </tr>\n",
              "    <tr>\n",
              "      <th>39</th>\n",
              "      <td>3/10/2014</td>\n",
              "      <td>apple declares 0.52 dividend aapl</td>\n",
              "      <td>AAPL</td>\n",
              "      <td>Sell</td>\n",
              "    </tr>\n",
              "    <tr>\n",
              "      <th>40</th>\n",
              "      <td>3/7/2014</td>\n",
              "      <td>apple launches massive ios sale w 100 apps for...</td>\n",
              "      <td>AAPL</td>\n",
              "      <td>Buy</td>\n",
              "    </tr>\n",
              "    <tr>\n",
              "      <th>41</th>\n",
              "      <td>3/6/2014</td>\n",
              "      <td>apple ios app store promotion 100 apps games o...</td>\n",
              "      <td>AAPL</td>\n",
              "      <td>Sell</td>\n",
              "    </tr>\n",
              "    <tr>\n",
              "      <th>42</th>\n",
              "      <td>3/5/2014</td>\n",
              "      <td>apple inc. to issue quarterly dividend of 0.52...</td>\n",
              "      <td>AAPL</td>\n",
              "      <td>Sell</td>\n",
              "    </tr>\n",
              "    <tr>\n",
              "      <th>43</th>\n",
              "      <td>3/4/2014</td>\n",
              "      <td>0 loss aapl 2 days ago see my track record  r...</td>\n",
              "      <td>AAPL</td>\n",
              "      <td>Sell</td>\n",
              "    </tr>\n",
              "    <tr>\n",
              "      <th>44</th>\n",
              "      <td>3/3/2014</td>\n",
              "      <td>apple inc. nasdaqaapl upgrade program will add...</td>\n",
              "      <td>AAPL</td>\n",
              "      <td>Buy</td>\n",
              "    </tr>\n",
              "    <tr>\n",
              "      <th>45</th>\n",
              "      <td>2/28/2014</td>\n",
              "      <td>new icloud storage tiers now active get 50 gb ...</td>\n",
              "      <td>AAPL</td>\n",
              "      <td>Sell</td>\n",
              "    </tr>\n",
              "    <tr>\n",
              "      <th>46</th>\n",
              "      <td>2/27/2014</td>\n",
              "      <td>apple disable the 0.99 crystal ad block safari...</td>\n",
              "      <td>AAPL</td>\n",
              "      <td>Sell</td>\n",
              "    </tr>\n",
              "    <tr>\n",
              "      <th>47</th>\n",
              "      <td>2/26/2014</td>\n",
              "      <td>apple disable the 0.99 crystal ad block safari...</td>\n",
              "      <td>AAPL</td>\n",
              "      <td>Sell</td>\n",
              "    </tr>\n",
              "    <tr>\n",
              "      <th>48</th>\n",
              "      <td>2/25/2014</td>\n",
              "      <td>apple disable the 0.99 crystal ad block safari...</td>\n",
              "      <td>AAPL</td>\n",
              "      <td>Sell</td>\n",
              "    </tr>\n",
              "    <tr>\n",
              "      <th>49</th>\n",
              "      <td>2/24/2014</td>\n",
              "      <td>apple disable the 0.99 crystal ad block safari...</td>\n",
              "      <td>AAPL</td>\n",
              "      <td>Sell</td>\n",
              "    </tr>\n",
              "    <tr>\n",
              "      <th>50</th>\n",
              "      <td>2/21/2014</td>\n",
              "      <td>apple disable the 0.99 crystal ad block safari...</td>\n",
              "      <td>AAPL</td>\n",
              "      <td>Sell</td>\n",
              "    </tr>\n",
              "    <tr>\n",
              "      <th>51</th>\n",
              "      <td>2/20/2014</td>\n",
              "      <td>apple disable the 0.99 crystal ad block safari...</td>\n",
              "      <td>AAPL</td>\n",
              "      <td>Sell</td>\n",
              "    </tr>\n",
              "    <tr>\n",
              "      <th>52</th>\n",
              "      <td>2/19/2014</td>\n",
              "      <td>this is the mobile advertising war apple to di...</td>\n",
              "      <td>AAPL</td>\n",
              "      <td>Sell</td>\n",
              "    </tr>\n",
              "    <tr>\n",
              "      <th>53</th>\n",
              "      <td>2/18/2014</td>\n",
              "      <td>apple disable the 0.99 crystal ad block safari...</td>\n",
              "      <td>AAPL</td>\n",
              "      <td>Sell</td>\n",
              "    </tr>\n",
              "    <tr>\n",
              "      <th>54</th>\n",
              "      <td>2/14/2014</td>\n",
              "      <td>apple disable the 0.99 crystal ad block safari...</td>\n",
              "      <td>AAPL</td>\n",
              "      <td>Sell</td>\n",
              "    </tr>\n",
              "    <tr>\n",
              "      <th>55</th>\n",
              "      <td>2/13/2014</td>\n",
              "      <td>apple disable the 0.99 crystal ad block safari...</td>\n",
              "      <td>AAPL</td>\n",
              "      <td>Sell</td>\n",
              "    </tr>\n",
              "    <tr>\n",
              "      <th>56</th>\n",
              "      <td>2/12/2014</td>\n",
              "      <td>apple disable the 0.99 crystal ad block safari...</td>\n",
              "      <td>AAPL</td>\n",
              "      <td>Sell</td>\n",
              "    </tr>\n",
              "    <tr>\n",
              "      <th>57</th>\n",
              "      <td>2/11/2014</td>\n",
              "      <td>apple disable the 0.99 crystal ad block safari...</td>\n",
              "      <td>AAPL</td>\n",
              "      <td>Sell</td>\n",
              "    </tr>\n",
              "    <tr>\n",
              "      <th>58</th>\n",
              "      <td>2/10/2014</td>\n",
              "      <td>apple disable the 0.99 crystal ad block safari...</td>\n",
              "      <td>AAPL</td>\n",
              "      <td>Sell</td>\n",
              "    </tr>\n",
              "    <tr>\n",
              "      <th>59</th>\n",
              "      <td>2/7/2014</td>\n",
              "      <td>apple disable the 0.99 crystal ad block safari...</td>\n",
              "      <td>AAPL</td>\n",
              "      <td>Sell</td>\n",
              "    </tr>\n",
              "  </tbody>\n",
              "</table>\n",
              "</div>\n",
              "    <div class=\"colab-df-buttons\">\n",
              "\n",
              "  <div class=\"colab-df-container\">\n",
              "    <button class=\"colab-df-convert\" onclick=\"convertToInteractive('df-89aba2e4-22a2-4fc3-92c7-b5011942bd31')\"\n",
              "            title=\"Convert this dataframe to an interactive table.\"\n",
              "            style=\"display:none;\">\n",
              "\n",
              "  <svg xmlns=\"http://www.w3.org/2000/svg\" height=\"24px\" viewBox=\"0 -960 960 960\">\n",
              "    <path d=\"M120-120v-720h720v720H120Zm60-500h600v-160H180v160Zm220 220h160v-160H400v160Zm0 220h160v-160H400v160ZM180-400h160v-160H180v160Zm440 0h160v-160H620v160ZM180-180h160v-160H180v160Zm440 0h160v-160H620v160Z\"/>\n",
              "  </svg>\n",
              "    </button>\n",
              "\n",
              "  <style>\n",
              "    .colab-df-container {\n",
              "      display:flex;\n",
              "      gap: 12px;\n",
              "    }\n",
              "\n",
              "    .colab-df-convert {\n",
              "      background-color: #E8F0FE;\n",
              "      border: none;\n",
              "      border-radius: 50%;\n",
              "      cursor: pointer;\n",
              "      display: none;\n",
              "      fill: #1967D2;\n",
              "      height: 32px;\n",
              "      padding: 0 0 0 0;\n",
              "      width: 32px;\n",
              "    }\n",
              "\n",
              "    .colab-df-convert:hover {\n",
              "      background-color: #E2EBFA;\n",
              "      box-shadow: 0px 1px 2px rgba(60, 64, 67, 0.3), 0px 1px 3px 1px rgba(60, 64, 67, 0.15);\n",
              "      fill: #174EA6;\n",
              "    }\n",
              "\n",
              "    .colab-df-buttons div {\n",
              "      margin-bottom: 4px;\n",
              "    }\n",
              "\n",
              "    [theme=dark] .colab-df-convert {\n",
              "      background-color: #3B4455;\n",
              "      fill: #D2E3FC;\n",
              "    }\n",
              "\n",
              "    [theme=dark] .colab-df-convert:hover {\n",
              "      background-color: #434B5C;\n",
              "      box-shadow: 0px 1px 3px 1px rgba(0, 0, 0, 0.15);\n",
              "      filter: drop-shadow(0px 1px 2px rgba(0, 0, 0, 0.3));\n",
              "      fill: #FFFFFF;\n",
              "    }\n",
              "  </style>\n",
              "\n",
              "    <script>\n",
              "      const buttonEl =\n",
              "        document.querySelector('#df-89aba2e4-22a2-4fc3-92c7-b5011942bd31 button.colab-df-convert');\n",
              "      buttonEl.style.display =\n",
              "        google.colab.kernel.accessAllowed ? 'block' : 'none';\n",
              "\n",
              "      async function convertToInteractive(key) {\n",
              "        const element = document.querySelector('#df-89aba2e4-22a2-4fc3-92c7-b5011942bd31');\n",
              "        const dataTable =\n",
              "          await google.colab.kernel.invokeFunction('convertToInteractive',\n",
              "                                                    [key], {});\n",
              "        if (!dataTable) return;\n",
              "\n",
              "        const docLinkHtml = 'Like what you see? Visit the ' +\n",
              "          '<a target=\"_blank\" href=https://colab.research.google.com/notebooks/data_table.ipynb>data table notebook</a>'\n",
              "          + ' to learn more about interactive tables.';\n",
              "        element.innerHTML = '';\n",
              "        dataTable['output_type'] = 'display_data';\n",
              "        await google.colab.output.renderOutput(dataTable, element);\n",
              "        const docLink = document.createElement('div');\n",
              "        docLink.innerHTML = docLinkHtml;\n",
              "        element.appendChild(docLink);\n",
              "      }\n",
              "    </script>\n",
              "  </div>\n",
              "\n",
              "\n",
              "<div id=\"df-f5de7213-121e-40f5-a71d-227b19c73c9e\">\n",
              "  <button class=\"colab-df-quickchart\" onclick=\"quickchart('df-f5de7213-121e-40f5-a71d-227b19c73c9e')\"\n",
              "            title=\"Suggest charts\"\n",
              "            style=\"display:none;\">\n",
              "\n",
              "<svg xmlns=\"http://www.w3.org/2000/svg\" height=\"24px\"viewBox=\"0 0 24 24\"\n",
              "     width=\"24px\">\n",
              "    <g>\n",
              "        <path d=\"M19 3H5c-1.1 0-2 .9-2 2v14c0 1.1.9 2 2 2h14c1.1 0 2-.9 2-2V5c0-1.1-.9-2-2-2zM9 17H7v-7h2v7zm4 0h-2V7h2v10zm4 0h-2v-4h2v4z\"/>\n",
              "    </g>\n",
              "</svg>\n",
              "  </button>\n",
              "\n",
              "<style>\n",
              "  .colab-df-quickchart {\n",
              "      --bg-color: #E8F0FE;\n",
              "      --fill-color: #1967D2;\n",
              "      --hover-bg-color: #E2EBFA;\n",
              "      --hover-fill-color: #174EA6;\n",
              "      --disabled-fill-color: #AAA;\n",
              "      --disabled-bg-color: #DDD;\n",
              "  }\n",
              "\n",
              "  [theme=dark] .colab-df-quickchart {\n",
              "      --bg-color: #3B4455;\n",
              "      --fill-color: #D2E3FC;\n",
              "      --hover-bg-color: #434B5C;\n",
              "      --hover-fill-color: #FFFFFF;\n",
              "      --disabled-bg-color: #3B4455;\n",
              "      --disabled-fill-color: #666;\n",
              "  }\n",
              "\n",
              "  .colab-df-quickchart {\n",
              "    background-color: var(--bg-color);\n",
              "    border: none;\n",
              "    border-radius: 50%;\n",
              "    cursor: pointer;\n",
              "    display: none;\n",
              "    fill: var(--fill-color);\n",
              "    height: 32px;\n",
              "    padding: 0;\n",
              "    width: 32px;\n",
              "  }\n",
              "\n",
              "  .colab-df-quickchart:hover {\n",
              "    background-color: var(--hover-bg-color);\n",
              "    box-shadow: 0 1px 2px rgba(60, 64, 67, 0.3), 0 1px 3px 1px rgba(60, 64, 67, 0.15);\n",
              "    fill: var(--button-hover-fill-color);\n",
              "  }\n",
              "\n",
              "  .colab-df-quickchart-complete:disabled,\n",
              "  .colab-df-quickchart-complete:disabled:hover {\n",
              "    background-color: var(--disabled-bg-color);\n",
              "    fill: var(--disabled-fill-color);\n",
              "    box-shadow: none;\n",
              "  }\n",
              "\n",
              "  .colab-df-spinner {\n",
              "    border: 2px solid var(--fill-color);\n",
              "    border-color: transparent;\n",
              "    border-bottom-color: var(--fill-color);\n",
              "    animation:\n",
              "      spin 1s steps(1) infinite;\n",
              "  }\n",
              "\n",
              "  @keyframes spin {\n",
              "    0% {\n",
              "      border-color: transparent;\n",
              "      border-bottom-color: var(--fill-color);\n",
              "      border-left-color: var(--fill-color);\n",
              "    }\n",
              "    20% {\n",
              "      border-color: transparent;\n",
              "      border-left-color: var(--fill-color);\n",
              "      border-top-color: var(--fill-color);\n",
              "    }\n",
              "    30% {\n",
              "      border-color: transparent;\n",
              "      border-left-color: var(--fill-color);\n",
              "      border-top-color: var(--fill-color);\n",
              "      border-right-color: var(--fill-color);\n",
              "    }\n",
              "    40% {\n",
              "      border-color: transparent;\n",
              "      border-right-color: var(--fill-color);\n",
              "      border-top-color: var(--fill-color);\n",
              "    }\n",
              "    60% {\n",
              "      border-color: transparent;\n",
              "      border-right-color: var(--fill-color);\n",
              "    }\n",
              "    80% {\n",
              "      border-color: transparent;\n",
              "      border-right-color: var(--fill-color);\n",
              "      border-bottom-color: var(--fill-color);\n",
              "    }\n",
              "    90% {\n",
              "      border-color: transparent;\n",
              "      border-bottom-color: var(--fill-color);\n",
              "    }\n",
              "  }\n",
              "</style>\n",
              "\n",
              "  <script>\n",
              "    async function quickchart(key) {\n",
              "      const quickchartButtonEl =\n",
              "        document.querySelector('#' + key + ' button');\n",
              "      quickchartButtonEl.disabled = true;  // To prevent multiple clicks.\n",
              "      quickchartButtonEl.classList.add('colab-df-spinner');\n",
              "      try {\n",
              "        const charts = await google.colab.kernel.invokeFunction(\n",
              "            'suggestCharts', [key], {});\n",
              "      } catch (error) {\n",
              "        console.error('Error during call to suggestCharts:', error);\n",
              "      }\n",
              "      quickchartButtonEl.classList.remove('colab-df-spinner');\n",
              "      quickchartButtonEl.classList.add('colab-df-quickchart-complete');\n",
              "    }\n",
              "    (() => {\n",
              "      let quickchartButtonEl =\n",
              "        document.querySelector('#df-f5de7213-121e-40f5-a71d-227b19c73c9e button');\n",
              "      quickchartButtonEl.style.display =\n",
              "        google.colab.kernel.accessAllowed ? 'block' : 'none';\n",
              "    })();\n",
              "  </script>\n",
              "</div>\n",
              "\n",
              "  <div id=\"id_0985bad1-b599-4599-95ad-e87391fd57db\">\n",
              "    <style>\n",
              "      .colab-df-generate {\n",
              "        background-color: #E8F0FE;\n",
              "        border: none;\n",
              "        border-radius: 50%;\n",
              "        cursor: pointer;\n",
              "        display: none;\n",
              "        fill: #1967D2;\n",
              "        height: 32px;\n",
              "        padding: 0 0 0 0;\n",
              "        width: 32px;\n",
              "      }\n",
              "\n",
              "      .colab-df-generate:hover {\n",
              "        background-color: #E2EBFA;\n",
              "        box-shadow: 0px 1px 2px rgba(60, 64, 67, 0.3), 0px 1px 3px 1px rgba(60, 64, 67, 0.15);\n",
              "        fill: #174EA6;\n",
              "      }\n",
              "\n",
              "      [theme=dark] .colab-df-generate {\n",
              "        background-color: #3B4455;\n",
              "        fill: #D2E3FC;\n",
              "      }\n",
              "\n",
              "      [theme=dark] .colab-df-generate:hover {\n",
              "        background-color: #434B5C;\n",
              "        box-shadow: 0px 1px 3px 1px rgba(0, 0, 0, 0.15);\n",
              "        filter: drop-shadow(0px 1px 2px rgba(0, 0, 0, 0.3));\n",
              "        fill: #FFFFFF;\n",
              "      }\n",
              "    </style>\n",
              "    <button class=\"colab-df-generate\" onclick=\"generateWithVariable('tData')\"\n",
              "            title=\"Generate code using this dataframe.\"\n",
              "            style=\"display:none;\">\n",
              "\n",
              "  <svg xmlns=\"http://www.w3.org/2000/svg\" height=\"24px\"viewBox=\"0 0 24 24\"\n",
              "       width=\"24px\">\n",
              "    <path d=\"M7,19H8.4L18.45,9,17,7.55,7,17.6ZM5,21V16.75L18.45,3.32a2,2,0,0,1,2.83,0l1.4,1.43a1.91,1.91,0,0,1,.58,1.4,1.91,1.91,0,0,1-.58,1.4L9.25,21ZM18.45,9,17,7.55Zm-12,3A5.31,5.31,0,0,0,4.9,8.1,5.31,5.31,0,0,0,1,6.5,5.31,5.31,0,0,0,4.9,4.9,5.31,5.31,0,0,0,6.5,1,5.31,5.31,0,0,0,8.1,4.9,5.31,5.31,0,0,0,12,6.5,5.46,5.46,0,0,0,6.5,12Z\"/>\n",
              "  </svg>\n",
              "    </button>\n",
              "    <script>\n",
              "      (() => {\n",
              "      const buttonEl =\n",
              "        document.querySelector('#id_0985bad1-b599-4599-95ad-e87391fd57db button.colab-df-generate');\n",
              "      buttonEl.style.display =\n",
              "        google.colab.kernel.accessAllowed ? 'block' : 'none';\n",
              "\n",
              "      buttonEl.onclick = () => {\n",
              "        google.colab.notebook.generateWithVariable('tData');\n",
              "      }\n",
              "      })();\n",
              "    </script>\n",
              "  </div>\n",
              "\n",
              "    </div>\n",
              "  </div>\n"
            ],
            "application/vnd.google.colaboratory.intrinsic+json": {
              "type": "dataframe",
              "variable_name": "tData",
              "summary": "{\n  \"name\": \"tData\",\n  \"rows\": 60,\n  \"fields\": [\n    {\n      \"column\": \"Date\",\n      \"properties\": {\n        \"dtype\": \"object\",\n        \"num_unique_values\": 60,\n        \"samples\": [\n          \"5/5/2014\",\n          \"4/28/2014\",\n          \"3/13/2014\"\n        ],\n        \"semantic_type\": \"\",\n        \"description\": \"\"\n      }\n    },\n    {\n      \"column\": \"text\",\n      \"properties\": {\n        \"dtype\": \"string\",\n        \"num_unique_values\": 45,\n        \"samples\": [\n          \"apple inc. nasdaqaapl upgrade program will add 0.36 to eps  aapl\",\n          \"apple inc. plans to pay 0 to artists at beats music launch aapl apple beatsmusic \",\n          \"apple inc. nasdaqaapl plans to pay 0 to artists at beats music launch aapl \"\n        ],\n        \"semantic_type\": \"\",\n        \"description\": \"\"\n      }\n    },\n    {\n      \"column\": \"Code\",\n      \"properties\": {\n        \"dtype\": \"category\",\n        \"num_unique_values\": 1,\n        \"samples\": [\n          \"AAPL\"\n        ],\n        \"semantic_type\": \"\",\n        \"description\": \"\"\n      }\n    },\n    {\n      \"column\": \"Action\",\n      \"properties\": {\n        \"dtype\": \"category\",\n        \"num_unique_values\": 2,\n        \"samples\": [\n          \"Sell\"\n        ],\n        \"semantic_type\": \"\",\n        \"description\": \"\"\n      }\n    }\n  ]\n}"
            }
          },
          "metadata": {},
          "execution_count": 27
        }
      ]
    },
    {
      "cell_type": "markdown",
      "source": [
        "# Tweet Based Stock Suggestion"
      ],
      "metadata": {
        "id": "frdBaDDLNp5G"
      }
    },
    {
      "cell_type": "code",
      "source": [
        "action_counts = tData['Action'].value_counts()\n",
        "\n",
        "if action_counts[\"Buy\"] == action_counts[\"Sell\"]:\n",
        "  print(\"Hold the Stock\")\n",
        "elif action_counts[\"Buy\"] > action_counts[\"Sell\"]:\n",
        "  print(\"Buy the Stock\")\n",
        "else:\n",
        "   print(\"Sell the stocks\")\n"
      ],
      "metadata": {
        "id": "nhSYpkDRKYj-",
        "colab": {
          "base_uri": "https://localhost:8080/"
        },
        "outputId": "a6075a73-ae90-4cad-c5c0-1eb3e790206e"
      },
      "execution_count": 29,
      "outputs": [
        {
          "output_type": "stream",
          "name": "stdout",
          "text": [
            "Buy the stocks\n"
          ]
        }
      ]
    },
    {
      "cell_type": "code",
      "source": [],
      "metadata": {
        "id": "fRzOXpvoLuU-"
      },
      "execution_count": null,
      "outputs": []
    }
  ]
}